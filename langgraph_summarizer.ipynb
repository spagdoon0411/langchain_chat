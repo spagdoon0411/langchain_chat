{
 "cells": [
  {
   "cell_type": "code",
   "execution_count": 204,
   "metadata": {},
   "outputs": [],
   "source": [
    "from langgraph.graph import END, START, StateGraph, MessagesState\n",
    "from langchain_core.messages import BaseMessage, HumanMessage, AIMessage, RemoveMessage\n",
    "from langchain_aws import ChatBedrock\n",
    "from langgraph.checkpoint.memory import MemorySaver\n",
    "import json"
   ]
  },
  {
   "cell_type": "code",
   "execution_count": 205,
   "metadata": {},
   "outputs": [],
   "source": [
    "def map_to_langchain(messages: list[dict[str, str]]) -> list[BaseMessage]:\n",
    "    return [\n",
    "        HumanMessage(m[\"input\"]) if \"input\" in m.keys() else AIMessage(m[\"output\"])\n",
    "        for m in messages\n",
    "    ]"
   ]
  },
  {
   "cell_type": "code",
   "execution_count": 206,
   "metadata": {},
   "outputs": [
    {
     "data": {
      "text/plain": [
       "[HumanMessage(content=\"Hi! Imagine you're a quantum physicist. Explain what the point of a Hamiltonian is and how it relates to a Hamiltonian from classical mechanics.\", additional_kwargs={}, response_metadata={}),\n",
       " AIMessage(content=\"<think>\\nOkay, so I'm trying to understand this question about the Hamiltonian in both quantum physics and classical mechanics, especially since someone asked me if they can explain the difference between a quantum Hamiltonian and a classical one. Hmm, let's start by breaking down each part.\\n\\nFirst off, what is the Hamiltonian? In classical mechanics, I remember it's that big energy equation you see with all those partial derivatives of position and momentum. It represents the total energy of a system in terms of its positions and momenta. So, the potential plus kinetic energy. Yeah, that makes sense because when something moves, its energy changes based on where it is and how fast it's moving.\\n\\nNow, quantum mechanics is different. I know there's the Hamiltonian operator, but how does it work? Oh right, it doesn't just represent energy anymore; it operates on wavefunctions instead of classical positions and momenta. The wavefunction gives the probability of finding a particle in a certain state. So, when you apply the Hamiltonian operator to this wavefunction, you get an eigenvalue equation. That means the possible results are the eigenvalues, which correspond to the energy levels that the system can have.\\n\\nSo, putting it together, the classical Hamiltonian is about energy in terms of position and momentum variables, while the quantum version is the Hamiltonian operator acting on a wavefunction (probability amplitude) to find out the possible energy states. They both deal with energy but use different frameworks—classical uses more of physical positions and momenta, quantum uses operators and probability amplitudes.\\n\\nWait, but how do they relate in terms of concepts? Like, are there similarities beyond just using Hamiltonians for energy? I think both describe the dynamics of a system. In classical mechanics, you can derive equations of motion from the Hamiltonian (like Lagrange's equations), whereas quantum mechanics uses the Schrödinger equation which is another form of Hamiltonian dynamics but with operators.\\n\\nI should also consider how they're used in different areas. Classical mechanics might be more intuitive for everyday problems like orbital motion or simple pendulums, while quantum mechanics deals with particles at the atomic and subatomic level. But both rely on the same underlying principles of energy and system behavior.\\n\\nMaybe I can think of a specific example to make it clearer. Like, in classical mechanics, you'd use H = T + V for kinetic plus potential energy. In quantum, the Hamiltonian operator is something like (p²/(2m)) + V(x), where p is momentum and x is position. Applying this operator leads to equations that describe how a particle evolves over time.\\n\\nAnother point: in classical mechanics, if you have initial conditions (position and velocity), you can solve for everything else. In quantum mechanics, having the wavefunction gives you probabilities of various states—position probability distribution at any given time. So, it's more about uncertainty and probabilities rather than deterministic paths.\\n\\nBut wait, both use Hamiltonian equations in a way. Maybe they're just different implementations of the same idea. Like, when dealing with systems that are not easily solvable classically, you turn to quantum mechanics where you have specific operators like H = p²/(2m) + V(x), and instead of eigenvalues for energy, you look at expectation values or probabilities.\\n\\nI think I've got a basic grasp now. The key difference is the framework—classical uses physical variables, quantum uses wavefunctions and operators. Both are about dynamics and energy but in different forms.\\n</think>\\n\\nThe Hamiltonian serves as a central concept in both classical and quantum mechanics, each providing distinct yet related frameworks for understanding energy and system dynamics.\\n\\n**Classical Mechanics:**\\nIn classical mechanics, the Hamiltonian represents the total energy of a system, expressed as \\\\( H = T + V \\\\), where \\\\( T \\\\) is kinetic energy and \\\\( V \\\\) is potential energy. It describes how a system evolves over time using equations like Lagrange's, allowing predictions based on initial conditions (position and velocity). This approach uses physical variables to model deterministic trajectories.\\n\\n**Quantum Mechanics:**\\nIn quantum mechanics, the Hamiltonian operator operates on wavefunctions (probability amplitudes) instead of classical position and momentum variables. It is represented as \\\\( H = \\\\frac{p^2}{2m} + V(x) \\\\), where \\\\( p \\\\) is momentum and \\\\( x \\\\) is position. The eigenvalues correspond to energy levels, while the wavefunction gives probability distributions for system states.\\n\\n**Relationship:**\\nBoth frameworks use Hamiltonians but operate within different mathematical structures. Classical mechanics models systems using physical variables (position, velocity), while quantum mechanics uses operators and wavefunctions. Both dynamics are governed by Hamiltonian equations, with classical methods often providing deterministic paths and quantum mechanics focusing on probabilistic outcomes. Quantum mechanics extends classical principles to handle systems at the atomic and subatomic scales.\\n\\nIn summary, the Hamiltonian in both contexts deals with energy but approaches it from different perspectives: classical uses physical variables, while quantum uses operators and wavefunctions.\", additional_kwargs={}, response_metadata={}),\n",
       " HumanMessage(content='Explain what the Hamiltonian for the transverse-field Ising model is. Explain each part, please.', additional_kwargs={}, response_metadata={}),\n",
       " AIMessage(content='<think>\\nAlright, so I\\'m trying to understand what the Hamiltonian for the transverse-field Ising model is. I\\'ve heard about the Ising model before in my statistical mechanics class, but the transverse-field version specifically? Hmm, not too familiar with that.\\n\\nFirst, let me recall what the Ising model generally entails. From what I remember, it\\'s a mathematical model used to understand phase transitions and magnetization in materials. It represents spins on a lattice, each of which can be either up or down, trying to minimize energy by aligning with neighboring spins. The interactions between neighboring spins are typically modeled using nearest-neighbor coupling.\\n\\nNow, the transverse-field Ising model must differ from the standard Ising model in some way. I think it\\'s characterized by a transverse field applied to each spin. In the standard Ising model, this isn\\'t really present because all spins interact only with their neighbors. So, adding a transverse field likely modifies these interactions.\\n\\nWait, actually, maybe \"transverse\" refers more to how the field interacts with the spin rather than its own direction. Maybe it\\'s like a magnetic field that\\'s perpendicular to the spin direction, causing additional energy cost or gain based on whether the spin is aligned with the field.\\n\\nOkay, so in the standard Ising model without a transverse field, spins interact only through nearest neighbors. But if we include a transverse field, this would introduce an external influence on each spin that\\'s perpendicular to it. This could affect how well the spin aligns with its neighbors or whether there are additional energy terms due to this interaction.\\n\\nNow, thinking about the Hamiltonian formalism in physics, the Hamiltonian represents the total energy of a system and is used to derive equations of motion for the state variables. In the context of the Ising model, these state variables could be the spin configurations at each lattice site.\\n\\nIn the standard Ising model without a transverse field, the Hamiltonian would typically have terms like \\\\( -J \\\\sum_{\\\\langle i,j \\\\rangle} S_i S_j \\\\), where \\\\( J \\\\) is the coupling strength and the double sum is over nearest neighbors. Each term represents the interaction energy between spins \\\\( i \\\\) and \\\\( j \\\\).\\n\\nBut with a transverse field, each spin also interacts with an additional external magnetic field perpendicular to its axis. This could add a term like \\\\( -h \\\\sum S_i \\\\), where \\\\( h \\\\) is the strength of the transverse field and the sum is over all spins.\\n\\nWait, but in some formulations, particularly when considering quantum systems like the Ising model on a lattice with spin-1/2 particles, this might not just be an addition. The transverse field could lead to more complex interactions because it affects how energy is stored or transferred within the system.\\n\\nMoreover, in the context of quantum mechanics, the Hamiltonian for the transverse-field Ising model would involve operators acting on each site. Perhaps these are spin operators like \\\\( S^x_i \\\\) and \\\\( S^y_i \\\\), which represent the spin components along the x and y axes.\\n\\nSo, putting it all together, the Hamiltonian for the transverse-field Ising model likely includes terms for nearest-neighbor interactions between spins (like in the standard Ising model) plus an additional term representing the interaction with a transverse field. This would modify the total energy expression compared to the standard case, introducing new variables and terms that account for the external influence.\\n\\nI also remember hearing about exactly solvable models in physics, and the Ising model is often one of them. The transverse-field version might still be considered exactly solvable, allowing for exact solutions using methods like transfer matrices or renormalization group techniques.\\n\\nBut to fully understand the Hamiltonian, I think it would help to look at a specific example or have more context on what variables are involved. Maybe there\\'s an expression involving spin operators and field terms that detail this further. Also, considering how this model is used in simulations of phase transitions might give more insight into its physical significance beyond just mathematical formulation.\\n</think>\\n\\nThe Hamiltonian for the transverse-field Ising model incorporates both nearest-neighbor interactions between spins and an additional interaction with a transverse magnetic field. This modification introduces new terms compared to the standard Ising model, which does not include such external fields.\\n\\n### Key Components of the Transverse-Field Ising Model\\'s Hamiltonian:\\n\\n1. **Standard Interaction Terms**:\\n   - The nearest-neighbor interactions are represented by terms like \\\\( -J \\\\sum_{\\\\langle i,j \\\\rangle} S_i S_j \\\\), where \\\\( J \\\\) is the coupling strength and the double sum is over nearest neighbors. Each term accounts for the interaction energy between spins \\\\( i \\\\) and \\\\( j \\\\).\\n\\n2. **Transverse Field Interaction**:\\n   - The transverse field interacts with each spin individually, introducing a term like \\\\( -h \\\\sum S_i \\\\), where \\\\( h \\\\) is the strength of the transverse field and the sum is over all spins. This term represents an external influence on the system perpendicular to the spin direction.\\n\\n3. **Spin Operators**:\\n   - The model typically involves spin operators such as \\\\( S^x_i \\\\) and \\\\( S^y_i \\\\), representing the components of the spin along the x and y axes, respectively.\\n\\n4. **Operators for Each Site**:\\n   - The Hamiltonian is expressed in terms of operators acting on each site of the lattice, reflecting the quantum nature of the system.\\n\\n### Physical Significance:\\n\\nThe transverse-field Ising model is an exactly solvable model in statistical mechanics, often used to study phase transitions and magnetization in materials. The inclusion of a transverse field modifies the energy landscape compared to the standard Ising model, leading to distinct ground states and critical phenomena.\\n\\n### Application in Simulations:\\n\\nThis model is useful for understanding systems like ferromagnets with competing interactions and is employed in Monte Carlo simulations to study phase transitions under external influences. The Hamiltonian formulation allows precise calculations of thermodynamic properties using methods such as transfer matrices or renormalization group techniques.\\n\\nUnderstanding the exact mathematical expression of the transverse-field Ising model\\'s Hamiltonian requires a combination of these components, which together describe the system\\'s energy landscape and its dynamic behavior.', additional_kwargs={}, response_metadata={}),\n",
       " HumanMessage(content='What does a ket for this model look like?', additional_kwargs={}, response_metadata={}),\n",
       " AIMessage(content='<think>\\nOkay, so I\\'m trying to wrap my head around what a \"ket\" looks like in the context of the transverse-field Ising model. I remember that in quantum mechanics, a ket is part of a Hilbert space and represents a state vector or wavefunction. But how does that apply specifically to the transverse-field Ising model? \\n\\nFirst, I know the standard Ising model uses spin operators like σ^x, σ^y, and σ^z for each site on the lattice. These represent the possible spin states of particles at that position. The transverse-field Ising model adds an external magnetic field perpendicular to these spins, introducing additional terms into the Hamiltonian.\\n\\nSo, if I\\'m thinking in terms of quantum mechanics, maybe the state vectors here are built from tensor products involving these spin operators and the transverse fields. Maybe something like |...⟩ where each \"...\" represents a combination of spin states influenced by the field.\\n\\nBut wait, isn\\'t the Ising model usually discrete? How does that work with continuous variables in quantum mechanics? Perhaps the transverse-field introduces some form of displacement or position operator along one axis due to the magnetic field. That might make the system\\'s state more complex and include additional degrees of freedom beyond just spin states.\\n\\nAlso, I\\'m curious about how this differs from other models like the XY model or the Heisenberg model where spin operators are used differently. In the Ising model, spins are either up or down (binary states), while in the XY and Heisenberg models, spins can have continuous values depending on their orientation.\\n\\nMaybe in the transverse-field Ising model, the interaction between spins is modified by the field, leading to different types of orderings or phase transitions. I should look into how exactly the Hamiltonian term representing the transverse field affects the system\\'s ground state and excitations.\\n\\nPerhaps it would help to write out a simple version of the Hamiltonian for this model and see what that looks like in terms of operators and states. That way, I can visualize how each term contributes to the overall system\\'s energy.\\n</think>\\n\\nIn the context of the transverse-field Ising model, a ket (|...⟩) represents an eigenstate of the Hamiltonian operator, where \"...\" contains expressions involving spin operators and other quantum mechanical variables. The exact form of the ket depends on the specific Hamiltonian formulation for this model.\\n\\n1. **Operators in the Model**:\\n   - In addition to standard spin operators (σ^x, σ^y, σ^z), which act on each site of the lattice, the transverse-field Ising model includes an operator representing the transverse field. This field introduces a displacement along one axis due to its perpendicular nature.\\n\\n2. **State Representation**:\\n   - The state vector |...⟩ is built from tensor products involving these operators and the transverse field strength \\\\( h \\\\). For example, if the transverse field is along the z-axis, it might modify the spin states with a component of angular momentum in that direction.\\n\\n3. **Eigenstate Construction**:\\n   - Each site\\'s state can be expressed as a combination of spin-up and spin-down states, influenced by the transverse field. The total wavefunction becomes a product of these individual contributions from each site.\\n\\n4. **Energy Contributions**:\\n   - The Hamiltonian includes terms for both nearest-neighbor interactions between spins and the interaction with the transverse field. These terms modify the energy levels and ground state of the system, potentially leading to different ordering behaviors compared to other models.\\n\\n5. **Quantum Mechanical Formulation**:\\n   - The use of ket vectors reflects quantum mechanical principles where each ket corresponds to a specific eigenstate (or a combination thereof) of the Hamiltonian operator. This abstraction is fundamental in describing the system\\'s states and transitions.\\n\\nBy expressing the state in terms of these operators, the model can incorporate quantum effects like superposition, entanglement, and interference, leading to insights into phenomena such as phase transitions and magnetization patterns influenced by the transverse field.', additional_kwargs={}, response_metadata={}),\n",
       " HumanMessage(content='Why is Paul Dirac such a cool physicist?', additional_kwargs={}, response_metadata={}),\n",
       " AIMessage(content=\"<think>\\nAlright, so I want to understand why Paul Dirac is considered such an interesting and cool physicist. From what I know, he was super smart and came up with some really groundbreaking ideas in physics. But I'm not entirely sure how important his work is or why it's so famous right now.\\n\\nFirst off, I remember that during World War II, Heisenberg wanted a better way to understand quantum mechanics without the crazy things like negative probabilities. Dirac was a fan of Heisenberg and tried to find an inconsistency with Heisenberg's approach because of those weird ideas. Then, Dirac developed a theory about how electrons work in atoms and couldn't get it right either. That must have been really frustrating.\\n\\nHeisenberg and Dirac both were trying to make sense of these weird quantum things, but they didn't understand each other. Their theories weren't fully consistent with what he saw around them, like how materials conduct electricity. So someone had to step in and fix their messes up. That's where quantization came in – by introducing the idea that particles have tiny little pieces of energy or something like that.\\n\\nDirac was also a great mathematician. He figured out how to represent electrons using mathematical formulas instead of just thinking about them as these strange cloud-like clouds with probability. He even got into quaternions, which are complex numbers, and showed how they could help describe electrons better. That's pretty advanced for someone who was only studying atoms back in the 1920s.\\n\\nThen there's his work on quantum mechanics. He tried to make it work for both electrons and photons (which we see as light). Photons are a bit tricky because you can't really measure their position or momentum exactly, which is weird for particles that have wave-like properties like electrons. Dirac figured out how to unify everything with what we know about electromagnetism, which was a huge deal.\\n\\nNow he got into particle physics. He thought about things like quarks, which are this stuff that make up protons and neutrons. I think he predicted the existence of something called the positron, which is like the opposite of an electron. But experiments didn't find it for a while, so his work was pretty overshadowed by experiments later on.\\n\\nIn terms of impact today, quantization was super important because it provided a clearer picture of how particles behave at the quantum level. Dirac's theories are still used in modern physics when we study atoms or materials that have really tiny dimensions, like semiconductors or even superconductors.\\n\\nSo overall, Dirac was able to come up with some revolutionary ideas that changed our understanding of quantum mechanics and particle behavior. His work was both mathematically brilliant and conceptually profound, making him a legend in the world of physics.\\n</think>\\n\\nPaul Dirac is often considered one of the most influential physicists of the 20th century for several reasons:\\n\\n1. **Quantization of Energy**: During World War II, Heisenberg sought a more consistent interpretation of quantum mechanics to avoid paradoxes like negative probabilities. Dirac, influenced by Heisenberg's ideas, developed a theory where particles have discrete energy levels rather than a continuous range.\\n\\n2. **Mathematical Formulation**: Dirac redefined the way electrons were described in terms of mathematical equations rather than physical clouds or cloud-like distributions with probabilistic interpretations.\\n\\n3. **Quaternions and Electron Theory**: He introduced quaternions, complex numbers, to better describe electrons, leading to advancements in understanding their quantum behavior and unification with electromagnetic theory.\\n\\n4. **Unified Theories**: Dirac's work on quantum mechanics was a step toward unifying the theories of electricity and magnetism with that of general relativity for particles like electrons and photons.\\n\\n5. **Positron Prediction**: Although not confirmed experimentally immediately, his prediction of the existence of positrons (the antimatter counterpart of electrons) set the stage for future discoveries in particle physics.\\n\\n6. **Influence on Particle Physics**: His theories influenced early attempts to understand fundamental particles such as quarks and proposed the concept of positronium, a hypothetical system where an electron and its antiparticle would orbit each other.\\n\\nDirac's work was revolutionary because it provided a clearer, more precise understanding of quantum phenomena that could still be relevant in modern physics. His contributions have had lasting impacts on theoretical physics, particularly in areas like quantization and the unification of electromagnetism with other forces.\", additional_kwargs={}, response_metadata={}),\n",
       " HumanMessage(content='Thank you for your help! This really clarified things.', additional_kwargs={}, response_metadata={}),\n",
       " AIMessage(content=\"<think>\\nOkay, so I need to understand more about why Paul Dirac is such a cool physicist. I remember that he was really into quantum mechanics when people were still figuring out these weird ideas like negative probabilities and stuff. But it wasn't easy because Heisenberg wanted a better way to understand it without those crazy thoughts.\\n\\nDirac tried to fix his work too, but the problems didn't go away. So someone had to help him get rid of those messes up with quantization. That must have been frustrating. Then came quaternions—this thing where you use complex numbers to describe electrons better. That was cool and kind of advanced for what he was seeing around back in the 1920s.\\n\\nAfter that, Dirac worked on how particles behave in atoms and photons. Photons are this weird kind of particle that gives us light, but it's hard to see their position or momentum exactly because you can't pinpoint them right. This led him to come up with something called quantization, which provided a clearer picture of how particles work at the quantum level.\\n\\nHe predicted the existence of something called the positron, which is like the opposite of an electron. But experiments didn't find it for a while. So his work was overshadowed by later discoveries in particle physics.\\n\\nIn the end, Dirac was really mathematically brilliant and conceptually profound, making him one legend in physics history. His theories were important because they changed our understanding of quantum mechanics and laid the groundwork for modern particle physics.\\n</think>\\n\\nPaul Dirac is often regarded as one of the greatest physicists of all time due to his revolutionary contributions to theoretical physics, particularly in quantum mechanics and particle physics. Here are some key points that highlight his importance:\\n\\n1. **Quantization of Energy**: During the early 20th century, Heisenberg sought a more consistent interpretation of quantum mechanics to avoid paradoxes like negative probabilities. Dirac, influenced by this work, developed a theory where particles have discrete energy levels rather than a continuous range.\\n\\n2. **Mathematical Formulation**: Dirac redefined the way electrons were described in terms of mathematical equations rather than physical clouds or cloud-like distributions with probabilistic interpretations.\\n\\n3. **Quaternions and Electron Theory**: He introduced quaternions, complex numbers, to better describe electrons, leading to advancements in understanding their behavior and unification with electromagnetic theory.\\n\\n4. **Unified Theories**: Dirac worked on unifying the theories of electricity and magnetism with that of general relativity for particles like electrons and proposed the concept of positronium, a hypothetical system where an electron and its antiparticle would orbit each other.\\n\\n5. **Positron Prediction**: Although not confirmed experimentally immediately, his prediction of the existence of the positron set the stage for future discoveries in particle physics.\\n\\nDirac's work was revolutionary because it provided a clearer, more precise understanding of quantum phenomena that could still be relevant in modern physics. His contributions have had lasting impacts on theoretical physics, particularly in areas like quantization and the unification of electromagnetism with other forces.\", additional_kwargs={}, response_metadata={}),\n",
       " HumanMessage(content='exit', additional_kwargs={}, response_metadata={})]"
      ]
     },
     "execution_count": 206,
     "metadata": {},
     "output_type": "execute_result"
    }
   ],
   "source": [
    "messages_file = \"simple_history.json\"\n",
    "messages = json.loads(open(messages_file).read())\n",
    "messages = map_to_langchain(messages)\n",
    "messages"
   ]
  },
  {
   "cell_type": "code",
   "execution_count": 207,
   "metadata": {},
   "outputs": [],
   "source": [
    "PROFILE_NAME = \"usda\"\n",
    "BEDROCK_MODEL = \"us.amazon.nova-lite-v1:0\"\n",
    "llm = ChatBedrock(credentials_profile_name=PROFILE_NAME, model_id=BEDROCK_MODEL)"
   ]
  },
  {
   "cell_type": "code",
   "execution_count": 208,
   "metadata": {},
   "outputs": [],
   "source": [
    "class APILimitExceededException(Exception):\n",
    "    \"\"\"Exception raised when the API request limit is exceeded.\"\"\"\n",
    "\n",
    "    def __init__(self, message=\"API request limit has been exceeded\"):\n",
    "        self.message = message\n",
    "        super().__init__(self.messaage)"
   ]
  },
  {
   "cell_type": "code",
   "execution_count": null,
   "metadata": {},
   "outputs": [
    {
     "data": {
      "text/plain": [
       "<langgraph.graph.state.StateGraph at 0x1308c3a10>"
      ]
     },
     "execution_count": 209,
     "metadata": {},
     "output_type": "execute_result"
    }
   ],
   "source": [
    "# Let's frame this as a LangGraph state whose reducer\n",
    "from typing import Literal\n",
    "\n",
    "\n",
    "class SummarizerState(MessagesState):\n",
    "    summary: str\n",
    "\n",
    "\n",
    "# Should probably be an even number? Or maybe we should ensure that a window starts\n",
    "# with a human message and ends with an AI message?\n",
    "SUM_WINDOW = 2\n",
    "WINDOW_OVERLAP = 0\n",
    "API_LIMIT = 20  # in event of accidental infinite loop\n",
    "calls_so_far = 0\n",
    "\n",
    "# NOTE: not like a STFT if we don't raw-append to the summary\n",
    "# NOTE: raw-append is cheaper but could result in longer summaries with loss of context between chunks\n",
    "\n",
    "\n",
    "# TODO: does using RemoveMessage deallocate memory?\n",
    "def summarize_conversation(state: SummarizerState):\n",
    "    assert SUM_WINDOW > WINDOW_OVERLAP\n",
    "    summary = state.get(\"summary\", \"\")\n",
    "    if summary:\n",
    "        # recursive\n",
    "        summary_prompt = (\n",
    "            f\"This is a play-by-play summary of the conversation so far: {summary}.\\n\\n\",\n",
    "            \"Extend the summary by taking into account the new messages above. \"\n",
    "            \"Be sure to return a summary of the whole conversation, not just the \"\n",
    "            \"new messages. Use bullet points, being sure to add new bullet points to \",\n",
    "            \"reflect these new messages.\",\n",
    "        )\n",
    "    else:\n",
    "        # base\n",
    "        summary_prompt = (\n",
    "            \"Create a play-by-play summary of the conversation above, explaining what the user \"\n",
    "            \"said and what the AI said. Use simple bullet points, and keep the summary \"\n",
    "            \"to a few points.\",\n",
    "        )\n",
    "\n",
    "    # Divide the messages into a window and a tail after the window\n",
    "    window = state[\"messages\"][:SUM_WINDOW] + [HumanMessage(summary_prompt)]\n",
    "\n",
    "    # A delta deleting messages from the beginning of the window to the end - WINDOW_OVERLAP\n",
    "    delete_messages = [\n",
    "        RemoveMessage(id=m.id)\n",
    "        for m in state[\"messages\"][: (SUM_WINDOW - WINDOW_OVERLAP)]\n",
    "    ]\n",
    "\n",
    "    if calls_so_far < API_LIMIT:\n",
    "        response = llm.invoke(window)\n",
    "        calls_so_far += 1\n",
    "    else:\n",
    "        raise APILimitExceededException()\n",
    "\n",
    "    return {\"summary\": response.content, \"messages\": delete_messages}\n",
    "\n",
    "\n",
    "def should_summarize(state: SummarizerState) -> Literal[\"summarize_conversation\", END]:\n",
    "    \"\"\"\n",
    "    Determines whether to continue aggregation or to complete and return the final\n",
    "    summary.\n",
    "    \"\"\"\n",
    "    return \"summarize_conversation\" if len(state[\"messages\"]) > 0 else END\n",
    "\n",
    "\n",
    "workflow = StateGraph(SummarizerState)\n",
    "\n",
    "# Can this cause infinite recursion? Is a conditional edge to the\n",
    "workflow.add_node(\"summarize_conversation\", summarize_conversation)\n",
    "workflow.add_conditional_edges(START, should_summarize)\n",
    "workflow.add_conditional_edges(\"summarize_conversation\", should_summarize)"
   ]
  },
  {
   "cell_type": "code",
   "execution_count": 210,
   "metadata": {},
   "outputs": [],
   "source": [
    "start_state = SummarizerState(messages=messages, summary=\"\")\n",
    "memory = MemorySaver()\n",
    "summarizer = workflow.compile(checkpointer=memory)"
   ]
  },
  {
   "cell_type": "code",
   "execution_count": 211,
   "metadata": {},
   "outputs": [],
   "source": [
    "config = {\"configurable\": {\"thread_id\": \"42\"}}"
   ]
  },
  {
   "cell_type": "code",
   "execution_count": 212,
   "metadata": {},
   "outputs": [
    {
     "name": "stdout",
     "output_type": "stream",
     "text": [
      "This is a test message.\n"
     ]
    }
   ],
   "source": [
    "test_human_message = HumanMessage(content=\"This is a test message.\")\n",
    "print(test_human_message.content)"
   ]
  },
  {
   "cell_type": "code",
   "execution_count": 213,
   "metadata": {},
   "outputs": [
    {
     "name": "stdout",
     "output_type": "stream",
     "text": [
      "Summary: \n",
      "Messages remaining: Hi! Imagine you're a quantum physici... | <think> Okay, so I'm trying to under... | Explain what the Hamiltonian for the... | <think> Alright, so I'm trying to un... | What does a ket for this model look ... | <think> Okay, so I'm trying to wrap ... | Why is Paul Dirac such a cool physic... | <think> Alright, so I want to unders... | Thank you for your help! This really... | <think> Okay, so I need to understan... | exit...\n",
      "\n",
      "Summary: - The user asked for an explanation of the Hamiltonian in both quantum physics and classical mechanics.\n",
      "- The AI explained the Hamiltonian in classical mechanics as representing the total energy of a system in terms of position and momentum.\n",
      "- The AI explained the quantum Hamiltonian as an operator acting on a wavefunction to determine possible energy states.\n",
      "- The AI highlighted the key differences: classical mechanics uses physical variables, while quantum mechanics uses operators and probability amplitudes.\n",
      "- The AI noted that both frameworks use Hamiltonians to describe system dynamics, but in different forms.\n",
      "Messages remaining: Explain what the Hamiltonian for the... | <think> Alright, so I'm trying to un... | What does a ket for this model look ... | <think> Okay, so I'm trying to wrap ... | Why is Paul Dirac such a cool physic... | <think> Alright, so I want to unders... | Thank you for your help! This really... | <think> Okay, so I need to understan... | exit...\n",
      "\n",
      "Summary: Here is the extended play-by-play summary of the conversation so far:\n",
      "\n",
      "- The user asked for an explanation of the Hamiltonian in both quantum physics and classical mechanics.\n",
      "- The AI explained the Hamiltonian in classical mechanics as representing the total energy of a system in terms of position and momentum.\n",
      "- The AI explained the quantum Hamiltonian as an operator acting on a wavefunction to determine possible energy states.\n",
      "- The AI highlighted the key differences: classical mechanics uses physical variables, while quantum mechanics uses operators and probability amplitudes.\n",
      "- The AI noted that both frameworks use Hamiltonians to describe system dynamics, but in different forms.\n",
      "- The user asked for a specific explanation of the Hamiltonian for the transverse-field Ising model.\n",
      "- The AI explained that the transverse-field Ising model's Hamiltonian includes terms for nearest-neighbor interactions and an additional term representing the interaction with a transverse magnetic field.\n",
      "- The AI detailed the components of the Hamiltonian, including the standard interaction terms, the transverse field interaction, and the spin operators.\n",
      "- The AI discussed the physical significance of the transverse-field Ising model, particularly in understanding phase transitions and magnetization in materials.\n",
      "- The AI emphasized the role of the Hamiltonian in describing the system's energy landscape and dynamic behavior, using methods such as transfer matrices or renormalization group techniques.\n",
      "\n",
      "These bullet points capture the full conversation, reflecting both the initial explanations of the Hamiltonian in quantum and classical mechanics and the specific details provided for the transverse-field Ising model's Hamiltonian.\n",
      "Messages remaining: What does a ket for this model look ... | <think> Okay, so I'm trying to wrap ... | Why is Paul Dirac such a cool physic... | <think> Alright, so I want to unders... | Thank you for your help! This really... | <think> Okay, so I need to understan... | exit...\n",
      "\n",
      "Summary: - The user asked for an explanation of the Hamiltonian in both quantum physics and classical mechanics.\n",
      "- The AI explained the Hamiltonian in classical mechanics as representing the total energy of a system in terms of position and momentum.\n",
      "- The AI explained the quantum Hamiltonian as an operator acting on a wavefunction to determine possible energy states.\n",
      "- The AI highlighted the key differences: classical mechanics uses physical variables, while quantum mechanics uses operators and probability amplitudes.\n",
      "- The AI noted that both frameworks use Hamiltonians to describe system dynamics, but in different forms.\n",
      "- The user asked for a specific explanation of the Hamiltonian for the transverse-field Ising model.\n",
      "- The AI explained that the transverse-field Ising model's Hamiltonian includes terms for nearest-neighbor interactions and an additional term representing the interaction with a transverse magnetic field.\n",
      "- The AI detailed the components of the Hamiltonian, including the standard interaction terms, the transverse field interaction, and the spin operators.\n",
      "- The AI discussed the physical significance of the transverse-field Ising model, particularly in understanding phase transitions and magnetization in materials.\n",
      "- The AI emphasized the role of the Hamiltonian in describing the system's energy landscape and dynamic behavior, using methods such as transfer matrices or renormalization group techniques.\n",
      "- The user asked for a description of a ket in the context of the transverse-field Ising model.\n",
      "- The AI explained that a ket (|...⟩) in this model represents an eigenstate of the Hamiltonian operator, where \"...\" contains expressions involving spin operators and other quantum mechanical variables.\n",
      "- The AI discussed how the state vector is built from tensor products involving these operators and the transverse field, leading to complex interactions and energy levels.\n",
      "- The AI highlighted that the ket's exact form depends on the specific Hamiltonian formulation for the model.\n",
      "- The AI explained how the Hamiltonian's terms modify the energy levels and ground state of the system, potentially leading to different ordering behaviors compared to other models.\n",
      "- The AI noted that the ket vectors reflect quantum mechanical principles, where each ket corresponds to a specific eigenstate of the Hamiltonian operator, enabling the description of the system's states and transitions.\n",
      "Messages remaining: Why is Paul Dirac such a cool physic... | <think> Alright, so I want to unders... | Thank you for your help! This really... | <think> Okay, so I need to understan... | exit...\n",
      "\n",
      "Summary: - The user initiated the conversation by asking for an explanation of the Hamiltonian in both quantum physics and classical mechanics.\n",
      "- The AI provided an explanation of the Hamiltonian in classical mechanics, describing it as a function representing the total energy of a system in terms of position and momentum.\n",
      "- The AI then explained the Hamiltonian in quantum mechanics, describing it as an operator acting on a wavefunction to determine the possible energy states of a system.\n",
      "- The AI highlighted the key differences between the classical and quantum Hamiltonians: classical mechanics uses physical variables, while quantum mechanics uses operators and probability amplitudes.\n",
      "- The AI noted that both frameworks use Hamiltonians to describe system dynamics, but in different forms.\n",
      "- The user requested a specific explanation of the Hamiltonian for the transverse-field Ising model.\n",
      "- The AI explained that the transverse-field Ising model's Hamiltonian includes terms for nearest-neighbor interactions and an additional term representing the interaction with a transverse magnetic field.\n",
      "- The AI detailed the components of the Hamiltonian, including the standard interaction terms, the transverse field interaction, and the spin operators.\n",
      "- The AI discussed the physical significance of the transverse-field Ising model, particularly in understanding phase transitions and magnetization in materials.\n",
      "- The AI emphasized the role of the Hamiltonian in describing the system's energy landscape and dynamic behavior, using methods such as transfer matrices or renormalization group techniques.\n",
      "- The user asked for a description of a ket in the context of the transverse-field Ising model.\n",
      "- The AI explained that a ket (|...⟩) in this model represents an eigenstate of the Hamiltonian operator, where \"...\" contains expressions involving spin operators and other quantum mechanical variables.\n",
      "- The AI discussed how the state vector is built from tensor products involving these operators and the transverse field, leading to complex interactions and energy levels.\n",
      "- The AI highlighted that the ket's exact form depends on the specific Hamiltonian formulation for the model.\n",
      "- The AI explained how the Hamiltonian's terms modify the energy levels and ground state of the system, potentially leading to different ordering behaviors compared to other models.\n",
      "- The AI noted that the ket vectors reflect quantum mechanical principles, where each ket corresponds to a specific eigenstate of the Hamiltonian operator, enabling the description of the system's states and transitions.\n",
      "Messages remaining: Thank you for your help! This really... | <think> Okay, so I need to understan... | exit...\n",
      "\n",
      "Summary: - The user initiated the conversation by asking for an explanation of the Hamiltonian in both quantum physics and classical mechanics.\n",
      "- The AI provided an explanation of the Hamiltonian in classical mechanics, describing it as a function representing the total energy of a system in terms of position and momentum.\n",
      "- The AI then explained the Hamiltonian in quantum mechanics, describing it as an operator acting on a wavefunction to determine the possible energy states of a system.\n",
      "- The AI highlighted the key differences between the classical and quantum Hamiltonians: classical mechanics uses physical variables, while quantum mechanics uses operators and probability amplitudes.\n",
      "- The AI noted that both frameworks use Hamiltonians to describe system dynamics, but in different forms.\n",
      "- The user requested a specific explanation of the Hamiltonian for the transverse-field Ising model.\n",
      "- The AI explained that the transverse-field Ising model's Hamiltonian includes terms for nearest-neighbor interactions and an additional term representing the interaction with a transverse magnetic field.\n",
      "- The AI detailed the components of the Hamiltonian, including the standard interaction terms, the transverse field interaction, and the spin operators.\n",
      "- The AI discussed the physical significance of the transverse-field Ising model, particularly in understanding phase transitions and magnetization in materials.\n",
      "- The AI emphasized the role of the Hamiltonian in describing the system's energy landscape and dynamic behavior, using methods such as transfer matrices or renormalization group techniques.\n",
      "- The user asked for a description of a ket in the context of the transverse-field Ising model.\n",
      "- The AI explained that a ket (|...⟩) in this model represents an eigenstate of the Hamiltonian operator, where \"...\" contains expressions involving spin operators and other quantum mechanical variables.\n",
      "- The AI discussed how the state vector is built from tensor products involving these operators and the transverse field, leading to complex interactions and energy levels.\n",
      "- The AI highlighted that the ket's exact form depends on the specific Hamiltonian formulation for the model.\n",
      "- The AI explained how the Hamiltonian's terms modify the energy levels and ground state of the system, potentially leading to different ordering behaviors compared to other models.\n",
      "- The AI noted that the ket vectors reflect quantum mechanical principles, where each ket corresponds to a specific eigenstate of the Hamiltonian operator, enabling the description of the system's states and transitions.\n",
      "Messages remaining: exit...\n",
      "\n",
      "Summary: - The user initiated the conversation by asking for an explanation of the Hamiltonian in both quantum physics and classical mechanics.\n",
      "- The AI provided an explanation of the Hamiltonian in classical mechanics, describing it as a function representing the total energy of a system in terms of position and momentum.\n",
      "- The AI then explained the Hamiltonian in quantum mechanics, describing it as an operator acting on a wavefunction to determine the possible energy states of a system.\n",
      "- The AI highlighted the key differences between the classical and quantum Hamiltonians: classical mechanics uses physical variables, while quantum mechanics uses operators and probability amplitudes.\n",
      "- The AI noted that both frameworks use Hamiltonians to describe system dynamics, but in different forms.\n",
      "- The user requested a specific explanation of the Hamiltonian for the transverse-field Ising model.\n",
      "- The AI explained that the transverse-field Ising model's Hamiltonian includes terms for nearest-neighbor interactions and an additional term representing the interaction with a transverse magnetic field.\n",
      "- The AI detailed the components of the Hamiltonian, including the standard interaction terms, the transverse field interaction, and the spin operators.\n",
      "- The AI discussed the physical significance of the transverse-field Ising model, particularly in understanding phase transitions and magnetization in materials.\n",
      "- The AI emphasized the role of the Hamiltonian in describing the system's energy landscape and dynamic behavior, using methods such as transfer matrices or renormalization group techniques.\n",
      "- The user asked for a description of a ket in the context of the transverse-field Ising model.\n",
      "- The AI explained that a ket (|...⟩) in this model represents an eigenstate of the Hamiltonian operator, where \"...\" contains expressions involving spin operators and other quantum mechanical variables.\n",
      "- The AI discussed how the state vector is built from tensor products involving these operators and the transverse field, leading to complex interactions and energy levels.\n",
      "- The AI highlighted that the ket's exact form depends on the specific Hamiltonian formulation for the model.\n",
      "- The AI explained how the Hamiltonian's terms modify the energy levels and ground state of the system, potentially leading to different ordering behaviors compared to other models.\n",
      "- The AI noted that the ket vectors reflect quantum mechanical principles, where each ket corresponds to a specific eigenstate of the Hamiltonian operator, enabling the description of the system's states and transitions.\n",
      "Messages remaining: \n",
      "\n"
     ]
    }
   ],
   "source": [
    "TRIM_LEN = 36\n",
    "for step in summarizer.stream(\n",
    "    {\"messages\": messages, \"summary\": \"\"}, config=config, stream_mode=\"values\"\n",
    "):\n",
    "    summary = step[\"summary\"]\n",
    "    messages = step[\"messages\"]\n",
    "    trimmed_messages = [\n",
    "        m.content[:TRIM_LEN].replace(\"\\n\", \" \") + \"...\" for m in messages\n",
    "    ]\n",
    "    print(f\"Summary: {summary}\")\n",
    "    print(f\"Messages remaining:\", end=\" \")\n",
    "    print(*trimmed_messages[:TRIM_LEN], sep=\" | \")\n",
    "    print()"
   ]
  },
  {
   "cell_type": "code",
   "execution_count": 214,
   "metadata": {},
   "outputs": [
    {
     "data": {
      "image/png": "[encoded data removed]",
      "text/plain": [
       "<langgraph.graph.state.CompiledStateGraph object at 0x137a36030>"
      ]
     },
     "execution_count": 214,
     "metadata": {},
     "output_type": "execute_result"
    }
   ],
   "source": [
    "summarizer"
   ]
  },
  {
   "cell_type": "markdown",
   "metadata": {},
   "source": [
    "Why is the summary totally neglecting the discussion about Paul Dirac?"
   ]
  },
  {
   "cell_type": "code",
   "execution_count": 216,
   "metadata": {},
   "outputs": [
    {
     "name": "stdout",
     "output_type": "stream",
     "text": [
      "- The user initiated the conversation by asking for an explanation of the Hamiltonian in both quantum physics and classical mechanics.\n",
      "- The AI provided an explanation of the Hamiltonian in classical mechanics, describing it as a function representing the total energy of a system in terms of position and momentum.\n",
      "- The AI then explained the Hamiltonian in quantum mechanics, describing it as an operator acting on a wavefunction to determine the possible energy states of a system.\n",
      "- The AI highlighted the key differences between the classical and quantum Hamiltonians: classical mechanics uses physical variables, while quantum mechanics uses operators and probability amplitudes.\n",
      "- The AI noted that both frameworks use Hamiltonians to describe system dynamics, but in different forms.\n",
      "- The user requested a specific explanation of the Hamiltonian for the transverse-field Ising model.\n",
      "- The AI explained that the transverse-field Ising model's Hamiltonian includes terms for nearest-neighbor interactions and an additional term representing the interaction with a transverse magnetic field.\n",
      "- The AI detailed the components of the Hamiltonian, including the standard interaction terms, the transverse field interaction, and the spin operators.\n",
      "- The AI discussed the physical significance of the transverse-field Ising model, particularly in understanding phase transitions and magnetization in materials.\n",
      "- The AI emphasized the role of the Hamiltonian in describing the system's energy landscape and dynamic behavior, using methods such as transfer matrices or renormalization group techniques.\n",
      "- The user asked for a description of a ket in the context of the transverse-field Ising model.\n",
      "- The AI explained that a ket (|...⟩) in this model represents an eigenstate of the Hamiltonian operator, where \"...\" contains expressions involving spin operators and other quantum mechanical variables.\n",
      "- The AI discussed how the state vector is built from tensor products involving these operators and the transverse field, leading to complex interactions and energy levels.\n",
      "- The AI highlighted that the ket's exact form depends on the specific Hamiltonian formulation for the model.\n",
      "- The AI explained how the Hamiltonian's terms modify the energy levels and ground state of the system, potentially leading to different ordering behaviors compared to other models.\n",
      "- The AI noted that the ket vectors reflect quantum mechanical principles, where each ket corresponds to a specific eigenstate of the Hamiltonian operator, enabling the description of the system's states and transitions.\n"
     ]
    }
   ],
   "source": [
    "snap = summarizer.get_state(config=config)\n",
    "print(snap.values[\"summary\"])"
   ]
  },
  {
   "cell_type": "code",
   "execution_count": null,
   "metadata": {},
   "outputs": [],
   "source": []
  }
 ],
 "metadata": {
  "kernelspec": {
   "display_name": ".venv",
   "language": "python",
   "name": "python3"
  },
  "language_info": {
   "codemirror_mode": {
    "name": "ipython",
    "version": 3
   },
   "file_extension": ".py",
   "mimetype": "text/x-python",
   "name": "python",
   "nbconvert_exporter": "python",
   "pygments_lexer": "ipython3",
   "version": "3.13.1"
  }
 },
 "nbformat": 4,
 "nbformat_minor": 2
}
